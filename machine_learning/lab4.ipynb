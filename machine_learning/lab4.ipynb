{
  "nbformat": 4,
  "nbformat_minor": 0,
  "metadata": {
    "kernelspec": {
      "display_name": "Python 3",
      "language": "python",
      "name": "python3"
    },
    "language_info": {
      "codemirror_mode": {
        "name": "ipython",
        "version": 3
      },
      "file_extension": ".py",
      "mimetype": "text/x-python",
      "name": "python",
      "nbconvert_exporter": "python",
      "pygments_lexer": "ipython3",
      "version": "3.7.3"
    },
    "colab": {
      "name": "lab4.ipynb",
      "provenance": []
    }
  },
  "cells": [
    {
      "cell_type": "markdown",
      "metadata": {
        "id": "s_otOGlkDcY6"
      },
      "source": [
        "# Sieci splotowe"
      ]
    },
    {
      "cell_type": "code",
      "metadata": {
        "id": "GONwB4nzDcZB"
      },
      "source": [
        "%matplotlib inline\n",
        "\n",
        "import matplotlib\n",
        "import numpy as np\n",
        "import matplotlib.pyplot as plt\n",
        "\n",
        "import torch\n",
        "import torch.nn as nn\n",
        "import torch.optim as optim\n",
        "import torch.utils.data as data"
      ],
      "execution_count": 48,
      "outputs": []
    },
    {
      "cell_type": "markdown",
      "metadata": {
        "id": "xFkmU11KDcZC"
      },
      "source": [
        "## Przygotowanie danych\n",
        "Ponownie wykorzystamy w zadaniu zbiór MNIST. Zaczynamy od pobrania dnaych."
      ]
    },
    {
      "cell_type": "code",
      "metadata": {
        "id": "U_I9M6RODcZC"
      },
      "source": [
        "import torchvision.transforms as transforms\n",
        "from torchvision.datasets import MNIST\n",
        "\n",
        "target_directory = \"mnist\"\n",
        "\n",
        "mnist_real_train = MNIST(target_directory, train=True, download=True, transform=transforms.ToTensor())\n",
        "mnist_test = MNIST(target_directory, train=False, download=True, transform=transforms.ToTensor())"
      ],
      "execution_count": 49,
      "outputs": []
    },
    {
      "cell_type": "code",
      "metadata": {
        "colab": {
          "base_uri": "https://localhost:8080/"
        },
        "id": "JK7V2bMjDcZD",
        "outputId": "726f2918-b8d0-48c7-d0cc-a2c293c21f52"
      },
      "source": [
        "mnist_train, mnist_validation = data.random_split(mnist_real_train, (48000, 12000))\n",
        "len(mnist_train), len(mnist_validation)"
      ],
      "execution_count": 50,
      "outputs": [
        {
          "output_type": "execute_result",
          "data": {
            "text/plain": [
              "(48000, 12000)"
            ]
          },
          "metadata": {
            "tags": []
          },
          "execution_count": 50
        }
      ]
    },
    {
      "cell_type": "code",
      "metadata": {
        "colab": {
          "base_uri": "https://localhost:8080/"
        },
        "id": "_X8omG0LDcZD",
        "outputId": "740cd370-5d53-4779-883f-4de545f63343"
      },
      "source": [
        "mnist_train[0][0].shape"
      ],
      "execution_count": 51,
      "outputs": [
        {
          "output_type": "execute_result",
          "data": {
            "text/plain": [
              "torch.Size([1, 28, 28])"
            ]
          },
          "metadata": {
            "tags": []
          },
          "execution_count": 51
        }
      ]
    },
    {
      "cell_type": "code",
      "metadata": {
        "id": "Px0x4Cr7DcZD"
      },
      "source": [
        "def compute_acc(logits, expected):\n",
        "    pred = logits.argmax(dim=1)\n",
        "    return (pred == expected).type(torch.float).mean()"
      ],
      "execution_count": 52,
      "outputs": []
    },
    {
      "cell_type": "markdown",
      "metadata": {
        "id": "younLU2LDcZE"
      },
      "source": [
        "## Budowa sieci neuronowej"
      ]
    },
    {
      "cell_type": "markdown",
      "metadata": {
        "id": "7EKkhJ7aDcZE"
      },
      "source": [
        "### Warstwa splotowa\n",
        "\n",
        "Warstwa splotowa (ang. *convolutional layer*) przesuwa jądro (ang. *kernel*) po obrazie (w ogólności: po macierzy) miejsce przy miejscu, oblicza wynik i zapamiętuje w macierzy wyjściowej. Na poniższym rysunku mamy do czynienia z obrazem $7\\times 5$ pikseli (jasnoszary obszar w dolnej części rysunku) po którym przesuwane jest jądro $3\\times 3$ piksele. Obrazek jest uzupełniony (ang. *padding*) o zera, zaznaczone na rysunku kolorem ciemnoszarym. Po co takie uzupełnienie? Bez niego macierz wynikowa byłaby mniejsza niż obrazek wejściowy. Czerwony piksel w macierzy wyjściowej obliczany jest następująco: każdy z pikseli obrazu wejściowego jest mnożony przez odpowiadającą mu wartość w filtrze, a tak uzyskane 9 wartości jest sumowane. Następnie ten sam filtr wykorzystywany jest do obliczenia kolejnego piksela - zaznaczonego na niebiesko - na podstawie pikseli wejściowych zaznaczonych niebieską linią przerywaną. Filtr to są wagi splotowej sieci neuronowej, to znaczy to on podlega uczeniu."
      ]
    },
    {
      "cell_type": "markdown",
      "metadata": {
        "id": "dyKLgfulDcZE"
      },
      "source": [
        "![Rysunek poglądowy dotyczący warstwy splotowej](https://i.ibb.co/8KYF5TG/mlst-1303.png)\n",
        "\n",
        "Aurélien Géron \"Hands-On Machine Learning with Scikit-Learn, Keras, and TensorFlow\" O'Reilly Media 2017"
      ]
    },
    {
      "cell_type": "markdown",
      "metadata": {
        "id": "QUnAZ3KpDcZE"
      },
      "source": [
        "Jądro nie musi przsuwać się za każdym razem o 1 piksel, może mieć większy krok (ang. *stride*), jak na poniższym rysunku."
      ]
    },
    {
      "cell_type": "markdown",
      "metadata": {
        "id": "GmlEH0F0DcZF"
      },
      "source": [
        "![Ilustracja *stride*](https://i.ibb.co/mHbnBns/mlst-1304.png)\n",
        "\n",
        "Aurélien Géron \"Hands-On Machine Learning with Scikit-Learn, Keras, and TensorFlow\" O'Reilly Media 2017"
      ]
    },
    {
      "cell_type": "markdown",
      "metadata": {
        "id": "sr4IXvcLNrXX"
      },
      "source": [
        ""
      ]
    },
    {
      "cell_type": "markdown",
      "metadata": {
        "id": "_Ozdh-6UDcZF"
      },
      "source": [
        "Ale, ale... przecież obrazki mogą być kolorowe! No i faktycznie, możemy pojedynczy postrzegać pojedynczy obrazek jako kilka obrazków monochromatycznych. Wtedy zamiast przesuwać płaski filtr po pojedynczym obrazku przesuwamy kostkę, której dwa wymiary możemy modyfikować (odpowiedzialne za wysokość i szerokość), natomiast jej głębokość jest ustalona - zależy od liczby warstw obrazka. Na poniższym rysunku zaczynamy od normalnego obrazka RGB, który następnie jest zamieniany na wiele map - każda posiadająca swój jeden filtr (kostkę) - w ten sposób powstaje nowy \"obrazek\" podpisany na rysunku *Convolutional layer 1*, na którym... ponawiamy operację! Używając nowego zestawu filtrów tworzymy *Convolutional layer 2*."
      ]
    },
    {
      "cell_type": "markdown",
      "metadata": {
        "id": "VXpNMao8DcZF"
      },
      "source": [
        "![Ilustracja sieci splotowej w przypadku trójwymiarowym](https://i.ibb.co/0X1GTRL/mlst-1306.png)\n",
        "\n",
        "Aurélien Géron \"Hands-On Machine Learning with Scikit-Learn, Keras, and TensorFlow\" O'Reilly Media 2017"
      ]
    },
    {
      "cell_type": "markdown",
      "metadata": {
        "id": "6Emay3iXDcZF"
      },
      "source": [
        "Warstwę splotową w PyTorch realizuje klasa [`torch.nn.Conv2d`](https://pytorch.org/docs/stable/nn.html?highlight=conv2d#torch.nn.Conv2d). Pierwsze trzy parametry jej konstruktora są obowiązkowe, to kolejno: liczba map na wejściu, liczba map na wyjściu, rozmiar jądra (jedna liczba jeżeli ma być kwadratowe albo para liczb jeżeli ma być prostokątem).\n",
        "\n",
        "Będziemy budowali krok po kroku tablicę `layers`, której będziemy umieszczali kolejne warstwy naszej sieci neuronowej.\n",
        "Rozpoczniemy od dodania warstwy splotowej.\n",
        "Obrazki MNIST są monochromatyczne, więc mamy tylko 1 kanał wejściowy.\n",
        "Przyjmimy, że na wyjściu będziemy mieli 5 map, każdą na bazie kwadratowego filtra o boku 3.\n",
        "Żeby nie zmniejszyć zbyt szybko obrazka dodamy po 1 pikselu paddingu z każdej strony - jak na rysunku powyżej."
      ]
    },
    {
      "cell_type": "code",
      "metadata": {
        "id": "R8bUKQnrDcZF"
      },
      "source": [
        "layers = [\n",
        "    nn.Conv2d(1, 5, 3, padding=1)\n",
        "]"
      ],
      "execution_count": 53,
      "outputs": []
    },
    {
      "cell_type": "markdown",
      "metadata": {
        "id": "Yxmr95TkDcZG"
      },
      "source": [
        "### Nieliniowość\n",
        "\n",
        "Warstwa splotowa - podobnie jak warstwa liniowa (`nn.Linear`) - jest tylko sumą. Nie ma sensu bezpośrednie składanie kilku warstw splotowych jedna na drugą, potrzebna jest nieliniowość. Zastosujemy *leaky ReLU*, funkcję aktywacji przedstawioną na poniższym wykresie"
      ]
    },
    {
      "cell_type": "markdown",
      "metadata": {
        "id": "e6zGV3MmDcZG"
      },
      "source": [
        "![Leaky ReLU](https://i.ibb.co/DMfRk0y/leaky-relu.png)\n",
        "\n",
        "Aurélien Géron \"Hands-On Machine Learning with Scikit-Learn, Keras, and TensorFlow\" O'Reilly Media 2017"
      ]
    },
    {
      "cell_type": "code",
      "metadata": {
        "id": "_O0i1924DcZG"
      },
      "source": [
        "layers.append(nn.LeakyReLU())"
      ],
      "execution_count": 54,
      "outputs": []
    },
    {
      "cell_type": "markdown",
      "metadata": {
        "id": "GLXMDvlcDcZG"
      },
      "source": [
        "### Łączenie\n",
        "\n",
        "Sieć splotowa pozwala uwydatnić pewne cechy w obrazie, na przykład na poniższym rysunku na mapie po lewej stronie uwydatnione zostały linie pionowe, a po prawej linie poziome. "
      ]
    },
    {
      "cell_type": "markdown",
      "metadata": {
        "id": "-1iT2W66DcZG"
      },
      "source": [
        "![](img/mlst_1305.png)\n",
        "\n",
        "Aurélien Géron \"Hands-On Machine Learning with Scikit-Learn, Keras, and TensorFlow\" O'Reilly Media 2017"
      ]
    },
    {
      "cell_type": "markdown",
      "metadata": {
        "id": "P-eJj6t_DcZG"
      },
      "source": [
        "Z drugiej strony to uwydatnienie spowodowało, że trochę straciliśmy szczegóły i właściwie nie potrzebujemy już tak dużej rozdzielczości. Z pomocą przychodzi operacja łączenia (ang. *pooling*), która podobnie jak sieć splotowa przesuwa filtr przez obraz, ale ten filtr jest pozbawiony parametrów: służy albo do wybierania maksimum (ang. *max pooling*) albo do obliczania średniej arytmetycznej (ang. *average pooling*). Poniższy rysunek zgrubnie prezentuje ideę *max pooling* (kernel $2\\times 2$, stride 2, bez paddingu - stąd $\\times$ w ostatniej kolumnie). W przypadku łączenia nie ma problemu z przejściem do obrazów kolorowych - każda mapa analizowana jest oddzielnie, więc zawsze pozostajemy w dwóch wymiarach."
      ]
    },
    {
      "cell_type": "markdown",
      "metadata": {
        "id": "8mqvoE4vDcZH"
      },
      "source": [
        "![max pooling](https://i.ibb.co/G3mDGCL/mlst-1308.png)\n",
        "\n",
        "Aurélien Géron \"Hands-On Machine Learning with Scikit-Learn, Keras, and TensorFlow\" O'Reilly Media 2017"
      ]
    },
    {
      "cell_type": "markdown",
      "metadata": {
        "id": "wS7PPWsWDcZH"
      },
      "source": [
        "Dodamy do naszej sieci neuronowej *max pooling*, realizowany za pomocą klasy `nn.MaxPool2d`, z jądrem rozmiaru $3\\times 3$ i uzupełnieniem o 1 piksel z każdej strony."
      ]
    },
    {
      "cell_type": "code",
      "metadata": {
        "id": "YLKU6mksDcZH"
      },
      "source": [
        "layers.append(nn.MaxPool2d(3, padding=1))"
      ],
      "execution_count": 55,
      "outputs": []
    },
    {
      "cell_type": "markdown",
      "metadata": {
        "id": "DePOTuxVDcZH"
      },
      "source": [
        "### Zadanie 1\n",
        "\n",
        "Ile map i jakiego rozmiaru będzie na tym etapie przetwarzania, jeżeli wejście miało jedną mapę rozmiaru $28\\times 28$?"
      ]
    },
    {
      "cell_type": "markdown",
      "metadata": {
        "id": "lMO4O0x-DcZH"
      },
      "source": [
        "* **Liczba map**: 5\n",
        "* **Rozmiar każdej mapy**: 26x26"
      ]
    },
    {
      "cell_type": "markdown",
      "metadata": {
        "id": "8dd0EfgQQkbt"
      },
      "source": [
        "(28x28)*(3x3)=(28-3+1)x(28-3+1)"
      ]
    },
    {
      "cell_type": "markdown",
      "metadata": {
        "id": "ZK8ely3DDcZH"
      },
      "source": [
        "### Spłaszczanie\n",
        "\n",
        "Na tym etapie każdy obiekt przetwarzany przez naszą sieć neuronową jest trójwymiarowy, tj. składa się z pewnej liczby dwuwymiarowych map. Takiego wejścia nie możemy podać do warstwy liniowej! Wykorzystamy klasę `nn.Flatten`, żeby ułożyć piksele jeden za drugim w formie wektora."
      ]
    },
    {
      "cell_type": "code",
      "metadata": {
        "id": "IZM8st2pDcZH"
      },
      "source": [
        "layers.append(nn.Flatten())"
      ],
      "execution_count": 56,
      "outputs": []
    },
    {
      "cell_type": "markdown",
      "metadata": {
        "id": "Avd7mX5dDcZI"
      },
      "source": [
        "### Zadanie 2: Warstwa liniowa\n",
        "\n",
        "Tak samo jak na poprzednich zajęciach wykorzystamy do klasyfikacji warstwę `nn.Linear`. Klasyfikujemy do 10 klas, więc musimy mieć 10 neuronów, ale ilu wejść potrzebujemy? Uzupełnij poprzedni kod na podstawie wyników zadania 1."
      ]
    },
    {
      "cell_type": "code",
      "metadata": {
        "id": "mMbZPNDQDcZI"
      },
      "source": [
        "layers.append(nn.Linear(500, 10))"
      ],
      "execution_count": 57,
      "outputs": []
    },
    {
      "cell_type": "markdown",
      "metadata": {
        "id": "W_3j8YPtDcZI"
      },
      "source": [
        "### Faktyczna budowa sieci neuronowej\n",
        "\n",
        "Warstwy połączymy w jeden moduł wykorzystując klasę `nn.Sequential`, jako funkcję straty wykorzystamy entropię krzyżową, a do optymalizacji optymalizator Adam."
      ]
    },
    {
      "cell_type": "code",
      "metadata": {
        "id": "8amDdVzlDcZI"
      },
      "source": [
        "model = nn.Sequential(*layers)\n",
        "\n",
        "cost = torch.nn.CrossEntropyLoss()\n",
        "opt = optim.Adam(model.parameters())"
      ],
      "execution_count": 58,
      "outputs": []
    },
    {
      "cell_type": "code",
      "metadata": {
        "id": "9L3Cwc_BDcZI",
        "colab": {
          "base_uri": "https://localhost:8080/"
        },
        "outputId": "65f7b361-b82b-4d8e-b999-b42093a96f1b"
      },
      "source": [
        "model"
      ],
      "execution_count": 59,
      "outputs": [
        {
          "output_type": "execute_result",
          "data": {
            "text/plain": [
              "Sequential(\n",
              "  (0): Conv2d(1, 5, kernel_size=(3, 3), stride=(1, 1), padding=(1, 1))\n",
              "  (1): LeakyReLU(negative_slope=0.01)\n",
              "  (2): MaxPool2d(kernel_size=3, stride=3, padding=1, dilation=1, ceil_mode=False)\n",
              "  (3): Flatten(start_dim=1, end_dim=-1)\n",
              "  (4): Linear(in_features=500, out_features=10, bias=True)\n",
              ")"
            ]
          },
          "metadata": {
            "tags": []
          },
          "execution_count": 59
        }
      ]
    },
    {
      "cell_type": "markdown",
      "metadata": {
        "id": "Ko3MQWvSDcZI"
      },
      "source": [
        "## Uczenie z wykorzystaniem wczesnego zatrzymania\n",
        "\n",
        "Wczesne zatrzymanie (ang. *early stopping*) polega na tym, że co określoną liczbę epok uczenia obliczamy miarę oceny (np. trafność klasyfikacji) na zbiorze walidującym. Jeżeli nastąpiła poprawa w stosunku do poprzedniego razu, to zapamiętujemy obecne wartości wag sieci neuronowej, jeżeli zaś przez kilka razy nie następuje poprawa, to przerywamy uczenie i przywracamy wagi ostatniego najlepszego modelu.\n",
        "\n",
        "Poniższy kawałek kodu oblicza trafność na zbiorze walidującym co epokę i przerywa uczenie jeżeli przez 5 kolejnych epok nie nastąpiła poprawa."
      ]
    },
    {
      "cell_type": "code",
      "metadata": {
        "id": "gX7MivH1DcZJ",
        "colab": {
          "base_uri": "https://localhost:8080/"
        },
        "outputId": "21ed1340-6531-4ba9-8626-457f28a9e348"
      },
      "source": [
        "train_loss = []\n",
        "validation_acc = []\n",
        "best_model = None\n",
        "best_acc = None\n",
        "best_epoch = None\n",
        "max_epoch = 10000\n",
        "no_improvement = 5\n",
        "batch_size = 512\n",
        "\n",
        "for n_epoch in range(max_epoch):\n",
        "    model.train()\n",
        "    loader = data.DataLoader(mnist_train, batch_size=batch_size, shuffle=True, num_workers=1)\n",
        "    epoch_loss = []\n",
        "    for X_batch, y_batch in loader:\n",
        "        opt.zero_grad()\n",
        "        logits = model(X_batch)\n",
        "        loss = cost(logits, y_batch)\n",
        "        loss.backward()\n",
        "        opt.step()        \n",
        "        epoch_loss.append(loss.detach())\n",
        "    train_loss.append(torch.tensor(epoch_loss).mean())\n",
        "    model.eval()\n",
        "    loader = data.DataLoader(mnist_validation, batch_size=len(mnist_validation), shuffle=False)\n",
        "    X, y = next(iter(loader))\n",
        "    logits = model(X)\n",
        "    acc = compute_acc(logits, y).detach()\n",
        "    validation_acc.append(acc)\n",
        "    if best_acc is None or acc > best_acc:\n",
        "        print(\"New best epoch \", n_epoch, \"acc\", acc)\n",
        "        best_acc = acc\n",
        "        best_model = model.state_dict()\n",
        "        best_epoch = n_epoch\n",
        "    if best_epoch + no_improvement <= n_epoch:\n",
        "        print(\"No improvement for\", no_improvement, \"epochs\")\n",
        "        break\n",
        "        \n",
        "model.load_state_dict(best_model)"
      ],
      "execution_count": 60,
      "outputs": [
        {
          "output_type": "stream",
          "text": [
            "New best epoch  0 acc tensor(0.8363)\n",
            "New best epoch  1 acc tensor(0.8873)\n",
            "New best epoch  2 acc tensor(0.9076)\n",
            "New best epoch  3 acc tensor(0.9180)\n",
            "New best epoch  4 acc tensor(0.9264)\n",
            "New best epoch  5 acc tensor(0.9333)\n",
            "New best epoch  6 acc tensor(0.9381)\n",
            "New best epoch  7 acc tensor(0.9421)\n",
            "New best epoch  8 acc tensor(0.9449)\n",
            "New best epoch  9 acc tensor(0.9483)\n",
            "New best epoch  10 acc tensor(0.9493)\n",
            "New best epoch  11 acc tensor(0.9531)\n",
            "New best epoch  12 acc tensor(0.9562)\n",
            "New best epoch  14 acc tensor(0.9569)\n",
            "New best epoch  15 acc tensor(0.9584)\n",
            "New best epoch  16 acc tensor(0.9597)\n",
            "New best epoch  18 acc tensor(0.9599)\n",
            "New best epoch  19 acc tensor(0.9620)\n",
            "New best epoch  20 acc tensor(0.9631)\n",
            "New best epoch  21 acc tensor(0.9632)\n",
            "New best epoch  22 acc tensor(0.9635)\n",
            "New best epoch  23 acc tensor(0.9659)\n",
            "New best epoch  24 acc tensor(0.9665)\n",
            "New best epoch  28 acc tensor(0.9669)\n",
            "New best epoch  29 acc tensor(0.9670)\n",
            "New best epoch  30 acc tensor(0.9682)\n",
            "New best epoch  34 acc tensor(0.9691)\n",
            "New best epoch  39 acc tensor(0.9697)\n",
            "New best epoch  41 acc tensor(0.9700)\n",
            "New best epoch  43 acc tensor(0.9701)\n",
            "New best epoch  44 acc tensor(0.9709)\n",
            "No improvement for 5 epochs\n"
          ],
          "name": "stdout"
        },
        {
          "output_type": "execute_result",
          "data": {
            "text/plain": [
              "<All keys matched successfully>"
            ]
          },
          "metadata": {
            "tags": []
          },
          "execution_count": 60
        }
      ]
    },
    {
      "cell_type": "markdown",
      "metadata": {
        "id": "yEkAZBlSDcZJ"
      },
      "source": [
        "Przyjrzyj się poniższym wykresom"
      ]
    },
    {
      "cell_type": "code",
      "metadata": {
        "id": "9AjbFIfNDcZJ",
        "colab": {
          "base_uri": "https://localhost:8080/",
          "height": 809
        },
        "outputId": "829e2f00-19fc-4018-8cca-f8eacca12f92"
      },
      "source": [
        "plt.title('Validation accuracy. Dot denotes best accuracy.')\n",
        "plt.plot(validation_acc, label='Validation accuracy')\n",
        "plt.plot(best_epoch, best_acc, 'bo', label='Best accuracy')\n",
        "plt.show()\n",
        "plt.title('Training loss')\n",
        "plt.plot(train_loss)\n",
        "plt.show()\n",
        "k = max(3*no_improvement, 0)\n",
        "plt.title('Last {} epochs'.format(k))\n",
        "plt.plot(validation_acc[-k:])\n",
        "plt.plot(best_epoch-(len(validation_acc)-k), best_acc, 'bo')\n",
        "plt.show()"
      ],
      "execution_count": 61,
      "outputs": [
        {
          "output_type": "display_data",
          "data": {
            "image/png": "[encoded data removed]",
            "text/plain": [
              "<Figure size 432x288 with 1 Axes>"
            ]
          },
          "metadata": {
            "tags": [],
            "needs_background": "light"
          }
        },
        {
          "output_type": "display_data",
          "data": {
            "image/png": "[encoded data removed]",
            "text/plain": [
              "<Figure size 432x288 with 1 Axes>"
            ]
          },
          "metadata": {
            "tags": [],
            "needs_background": "light"
          }
        },
        {
          "output_type": "display_data",
          "data": {
            "image/png": "[encoded data removed]",
            "text/plain": [
              "<Figure size 432x288 with 1 Axes>"
            ]
          },
          "metadata": {
            "tags": [],
            "needs_background": "light"
          }
        }
      ]
    },
    {
      "cell_type": "markdown",
      "metadata": {
        "id": "9mFHbLn8DcZJ"
      },
      "source": [
        "### Zadanie 3\n",
        "Dlaczego wczesne zatrzymanie jest realizowane na zbiorze walidującym, a nie na zbiorze uczącym albo na zbiorze testowym?"
      ]
    },
    {
      "cell_type": "markdown",
      "metadata": {
        "id": "EGRMVDIZDcZJ"
      },
      "source": [
        "**Tu miejsce na odpowiedź:** Zbiór walidujący pozwala ocenić błąd przeuczenia, co jest istotne przy określeniu wczesnego zatrzymania."
      ]
    },
    {
      "cell_type": "markdown",
      "metadata": {
        "id": "c7vetN0FDcZJ"
      },
      "source": [
        "### Zadanie 4\n",
        "\n",
        "Oblicz trafność klasyfikacji na zbiorze walidującym i na zbiorze testowym. Czy uzyskane wartości się różnią? W którą stronę? Dlaczego tak może być?"
      ]
    },
    {
      "cell_type": "code",
      "metadata": {
        "id": "NLFQSlHMDcZJ",
        "colab": {
          "base_uri": "https://localhost:8080/"
        },
        "outputId": "c6c6aa86-8fac-4cb9-956c-3e54bd313c64"
      },
      "source": [
        "loader = data.DataLoader(mnist_validation, batch_size=len(mnist_validation), shuffle=False)\r\n",
        "X, y = next(iter(loader))\r\n",
        "logits = model(X)\r\n",
        "compute_acc(logits, y).detach()"
      ],
      "execution_count": 74,
      "outputs": [
        {
          "output_type": "execute_result",
          "data": {
            "text/plain": [
              "tensor(0.9707)"
            ]
          },
          "metadata": {
            "tags": []
          },
          "execution_count": 74
        }
      ]
    },
    {
      "cell_type": "markdown",
      "metadata": {
        "id": "NbYtmf5EDcZK"
      },
      "source": [
        "**A tu napisz komentarz**"
      ]
    },
    {
      "cell_type": "markdown",
      "metadata": {
        "id": "_FLaWHxtDcZK"
      },
      "source": [
        "## Zadanie do samodzielnego wykonania\n",
        "\n",
        "Zaimplementuj sieć o architekturze zbliżonej do [LeNet-5](http://yann.lecun.com/exdb/publis/pdf/lecun-01a.pdf), zgodnie z poniższym opisem:\n",
        "\n",
        "|Nr warstwy|Typ|Rozmiar wyjścia|Liczba filtrów|Rozmiar jądra (`kernel_size`)|Krok (`stride`)|Padding|Funkcja aktywacji|\n",
        "|----------|---|---------------|--------------|-----------------------|---------------|-------|-----------------|\n",
        "|1|splotowa|$28\\times 28$|6|$5\\times 5$|1|2|tanh|\n",
        "|2|avgerage pooling|$14\\times 14$|6|$2\\times 2$|2|0|tanh|\n",
        "|3|splotowa|$10\\times 10$|16|$5\\times 5$|1|0|tanh|\n",
        "|4|average pooling|$5\\times 5$|16|$2\\times 2$|2|0|tanh|\n",
        "|5|splotowa|$1\\times 1$|120|$5\\times 5$|1|0|tanh|\n",
        "|6|pełna|84|||||tanh|\n",
        "|7|pełna|10|||||brak|"
      ]
    },
    {
      "cell_type": "markdown",
      "metadata": {
        "id": "3X_nWbuiDcZK"
      },
      "source": [
        "Architektura w formie rysunku (z [oryginalnego artykułu](http://yann.lecun.com/exdb/publis/pdf/lecun-01a.pdf)):\n",
        "\n",
        "![LeNet5 architecture](https://i.ibb.co/tH9Bqcw/lenet5.png)"
      ]
    },
    {
      "cell_type": "markdown",
      "metadata": {
        "id": "VpSKK2MJDcZK"
      },
      "source": [
        "## Zadania szczegółowe:\n",
        "\n",
        "1. Zbuduj sieć\n",
        "2. Ucz sieć wykorzystując early stopping (przez ocenę accuracy na zbiorze walidującym)\n",
        "3. Oceń jakość sieci na zbiorze testowym\n",
        "4. Wyświetl 10 źle zaklasyfikowanych przypadków ze zbioru testowego, razem z informacją o poprawnej etykiecie oraz etykiecie zaproponowanej przez model. Posłuż się funkcją `plt.imshow`"
      ]
    },
    {
      "cell_type": "code",
      "metadata": {
        "id": "g5SSoiXLDcZK"
      },
      "source": [
        "layers = [\r\n",
        "    nn.Conv2d(1, 6, 5, padding=2, stride=1), nn.Tanh(), \r\n",
        "    nn.AvgPool2d(2, padding=0, stride=2), nn.Tanh(), \r\n",
        "    nn.Conv2d(6, 16, 5, padding=0, stride=1), nn.Tanh(), \r\n",
        "    nn.AvgPool2d(2, padding=0, stride=2), nn.Tanh(), \r\n",
        "    nn.Conv2d(16, 120, 5, padding=0, stride=1), nn.Tanh(), \r\n",
        "    nn.MaxPool2d(84), nn.Tanh(),\r\n",
        "    nn.Flatten()\r\n",
        "]"
      ],
      "execution_count": 81,
      "outputs": []
    },
    {
      "cell_type": "code",
      "metadata": {
        "colab": {
          "base_uri": "https://localhost:8080/"
        },
        "id": "lV4PaPfCfPDI",
        "outputId": "19a26817-423c-4a0f-dab3-c2a2760569ab"
      },
      "source": [
        "model = nn.Sequential(*layers)\r\n",
        "\r\n",
        "cost = torch.nn.CrossEntropyLoss()\r\n",
        "opt = optim.Adam(model.parameters())\r\n",
        "\r\n",
        "model"
      ],
      "execution_count": 82,
      "outputs": [
        {
          "output_type": "execute_result",
          "data": {
            "text/plain": [
              "Sequential(\n",
              "  (0): Conv2d(1, 6, kernel_size=(5, 5), stride=(1, 1), padding=(2, 2))\n",
              "  (1): Tanh()\n",
              "  (2): AvgPool2d(kernel_size=2, stride=2, padding=0)\n",
              "  (3): Tanh()\n",
              "  (4): Conv2d(6, 16, kernel_size=(5, 5), stride=(1, 1))\n",
              "  (5): Tanh()\n",
              "  (6): AvgPool2d(kernel_size=2, stride=2, padding=0)\n",
              "  (7): Tanh()\n",
              "  (8): Conv2d(16, 120, kernel_size=(5, 5), stride=(1, 1))\n",
              "  (9): Tanh()\n",
              "  (10): MaxPool2d(kernel_size=84, stride=84, padding=0, dilation=1, ceil_mode=False)\n",
              "  (11): Tanh()\n",
              "  (12): Flatten(start_dim=1, end_dim=-1)\n",
              ")"
            ]
          },
          "metadata": {
            "tags": []
          },
          "execution_count": 82
        }
      ]
    },
    {
      "cell_type": "code",
      "metadata": {
        "colab": {
          "base_uri": "https://localhost:8080/",
          "height": 392
        },
        "id": "4IQQbP1mfPvI",
        "outputId": "d72efb58-a8ec-401b-fcd8-1b4e98d97afc"
      },
      "source": [
        "train_loss = []\r\n",
        "validation_acc = []\r\n",
        "best_model = None\r\n",
        "best_acc = None\r\n",
        "best_epoch = None\r\n",
        "max_epoch = 10000\r\n",
        "no_improvement = 5\r\n",
        "batch_size = 512\r\n",
        "\r\n",
        "for n_epoch in range(max_epoch):\r\n",
        "    model.train()\r\n",
        "    loader = data.DataLoader(mnist_train, batch_size=batch_size, shuffle=True, num_workers=1)\r\n",
        "    epoch_loss = []\r\n",
        "    for X_batch, y_batch in loader:\r\n",
        "        opt.zero_grad()\r\n",
        "        logits = model(X_batch)\r\n",
        "        loss = cost(logits, y_batch)\r\n",
        "        loss.backward()\r\n",
        "        opt.step()        \r\n",
        "        epoch_loss.append(loss.detach())\r\n",
        "    train_loss.append(torch.tensor(epoch_loss).mean())\r\n",
        "    model.eval()\r\n",
        "    loader = data.DataLoader(mnist_validation, batch_size=len(mnist_validation), shuffle=False)\r\n",
        "    X, y = next(iter(loader))\r\n",
        "    logits = model(X)\r\n",
        "    acc = compute_acc(logits, y).detach()\r\n",
        "    validation_acc.append(acc)\r\n",
        "    if best_acc is None or acc > best_acc:\r\n",
        "        print(\"New best epoch \", n_epoch, \"acc\", acc)\r\n",
        "        best_acc = acc\r\n",
        "        best_model = model.state_dict()\r\n",
        "        best_epoch = n_epoch\r\n",
        "    if best_epoch + no_improvement <= n_epoch:\r\n",
        "        print(\"No improvement for\", no_improvement, \"epochs\")\r\n",
        "        break\r\n",
        "        \r\n",
        "model.load_state_dict(best_model)"
      ],
      "execution_count": 83,
      "outputs": [
        {
          "output_type": "error",
          "ename": "RuntimeError",
          "evalue": "ignored",
          "traceback": [
            "\u001b[0;31m---------------------------------------------------------------------------\u001b[0m",
            "\u001b[0;31mRuntimeError\u001b[0m                              Traceback (most recent call last)",
            "\u001b[0;32m<ipython-input-83-44cc95333dc4>\u001b[0m in \u001b[0;36m<module>\u001b[0;34m()\u001b[0m\n\u001b[1;32m     14\u001b[0m     \u001b[0;32mfor\u001b[0m \u001b[0mX_batch\u001b[0m\u001b[0;34m,\u001b[0m \u001b[0my_batch\u001b[0m \u001b[0;32min\u001b[0m \u001b[0mloader\u001b[0m\u001b[0;34m:\u001b[0m\u001b[0;34m\u001b[0m\u001b[0;34m\u001b[0m\u001b[0m\n\u001b[1;32m     15\u001b[0m         \u001b[0mopt\u001b[0m\u001b[0;34m.\u001b[0m\u001b[0mzero_grad\u001b[0m\u001b[0;34m(\u001b[0m\u001b[0;34m)\u001b[0m\u001b[0;34m\u001b[0m\u001b[0;34m\u001b[0m\u001b[0m\n\u001b[0;32m---> 16\u001b[0;31m         \u001b[0mlogits\u001b[0m \u001b[0;34m=\u001b[0m \u001b[0mmodel\u001b[0m\u001b[0;34m(\u001b[0m\u001b[0mX_batch\u001b[0m\u001b[0;34m)\u001b[0m\u001b[0;34m\u001b[0m\u001b[0;34m\u001b[0m\u001b[0m\n\u001b[0m\u001b[1;32m     17\u001b[0m         \u001b[0mloss\u001b[0m \u001b[0;34m=\u001b[0m \u001b[0mcost\u001b[0m\u001b[0;34m(\u001b[0m\u001b[0mlogits\u001b[0m\u001b[0;34m,\u001b[0m \u001b[0my_batch\u001b[0m\u001b[0;34m)\u001b[0m\u001b[0;34m\u001b[0m\u001b[0;34m\u001b[0m\u001b[0m\n\u001b[1;32m     18\u001b[0m         \u001b[0mloss\u001b[0m\u001b[0;34m.\u001b[0m\u001b[0mbackward\u001b[0m\u001b[0;34m(\u001b[0m\u001b[0;34m)\u001b[0m\u001b[0;34m\u001b[0m\u001b[0;34m\u001b[0m\u001b[0m\n",
            "\u001b[0;32m/usr/local/lib/python3.6/dist-packages/torch/nn/modules/module.py\u001b[0m in \u001b[0;36m_call_impl\u001b[0;34m(self, *input, **kwargs)\u001b[0m\n\u001b[1;32m    725\u001b[0m             \u001b[0mresult\u001b[0m \u001b[0;34m=\u001b[0m \u001b[0mself\u001b[0m\u001b[0;34m.\u001b[0m\u001b[0m_slow_forward\u001b[0m\u001b[0;34m(\u001b[0m\u001b[0;34m*\u001b[0m\u001b[0minput\u001b[0m\u001b[0;34m,\u001b[0m \u001b[0;34m**\u001b[0m\u001b[0mkwargs\u001b[0m\u001b[0;34m)\u001b[0m\u001b[0;34m\u001b[0m\u001b[0;34m\u001b[0m\u001b[0m\n\u001b[1;32m    726\u001b[0m         \u001b[0;32melse\u001b[0m\u001b[0;34m:\u001b[0m\u001b[0;34m\u001b[0m\u001b[0;34m\u001b[0m\u001b[0m\n\u001b[0;32m--> 727\u001b[0;31m             \u001b[0mresult\u001b[0m \u001b[0;34m=\u001b[0m \u001b[0mself\u001b[0m\u001b[0;34m.\u001b[0m\u001b[0mforward\u001b[0m\u001b[0;34m(\u001b[0m\u001b[0;34m*\u001b[0m\u001b[0minput\u001b[0m\u001b[0;34m,\u001b[0m \u001b[0;34m**\u001b[0m\u001b[0mkwargs\u001b[0m\u001b[0;34m)\u001b[0m\u001b[0;34m\u001b[0m\u001b[0;34m\u001b[0m\u001b[0m\n\u001b[0m\u001b[1;32m    728\u001b[0m         for hook in itertools.chain(\n\u001b[1;32m    729\u001b[0m                 \u001b[0m_global_forward_hooks\u001b[0m\u001b[0;34m.\u001b[0m\u001b[0mvalues\u001b[0m\u001b[0;34m(\u001b[0m\u001b[0;34m)\u001b[0m\u001b[0;34m,\u001b[0m\u001b[0;34m\u001b[0m\u001b[0;34m\u001b[0m\u001b[0m\n",
            "\u001b[0;32m/usr/local/lib/python3.6/dist-packages/torch/nn/modules/container.py\u001b[0m in \u001b[0;36mforward\u001b[0;34m(self, input)\u001b[0m\n\u001b[1;32m    115\u001b[0m     \u001b[0;32mdef\u001b[0m \u001b[0mforward\u001b[0m\u001b[0;34m(\u001b[0m\u001b[0mself\u001b[0m\u001b[0;34m,\u001b[0m \u001b[0minput\u001b[0m\u001b[0;34m)\u001b[0m\u001b[0;34m:\u001b[0m\u001b[0;34m\u001b[0m\u001b[0;34m\u001b[0m\u001b[0m\n\u001b[1;32m    116\u001b[0m         \u001b[0;32mfor\u001b[0m \u001b[0mmodule\u001b[0m \u001b[0;32min\u001b[0m \u001b[0mself\u001b[0m\u001b[0;34m:\u001b[0m\u001b[0;34m\u001b[0m\u001b[0;34m\u001b[0m\u001b[0m\n\u001b[0;32m--> 117\u001b[0;31m             \u001b[0minput\u001b[0m \u001b[0;34m=\u001b[0m \u001b[0mmodule\u001b[0m\u001b[0;34m(\u001b[0m\u001b[0minput\u001b[0m\u001b[0;34m)\u001b[0m\u001b[0;34m\u001b[0m\u001b[0;34m\u001b[0m\u001b[0m\n\u001b[0m\u001b[1;32m    118\u001b[0m         \u001b[0;32mreturn\u001b[0m \u001b[0minput\u001b[0m\u001b[0;34m\u001b[0m\u001b[0;34m\u001b[0m\u001b[0m\n\u001b[1;32m    119\u001b[0m \u001b[0;34m\u001b[0m\u001b[0m\n",
            "\u001b[0;32m/usr/local/lib/python3.6/dist-packages/torch/nn/modules/module.py\u001b[0m in \u001b[0;36m_call_impl\u001b[0;34m(self, *input, **kwargs)\u001b[0m\n\u001b[1;32m    725\u001b[0m             \u001b[0mresult\u001b[0m \u001b[0;34m=\u001b[0m \u001b[0mself\u001b[0m\u001b[0;34m.\u001b[0m\u001b[0m_slow_forward\u001b[0m\u001b[0;34m(\u001b[0m\u001b[0;34m*\u001b[0m\u001b[0minput\u001b[0m\u001b[0;34m,\u001b[0m \u001b[0;34m**\u001b[0m\u001b[0mkwargs\u001b[0m\u001b[0;34m)\u001b[0m\u001b[0;34m\u001b[0m\u001b[0;34m\u001b[0m\u001b[0m\n\u001b[1;32m    726\u001b[0m         \u001b[0;32melse\u001b[0m\u001b[0;34m:\u001b[0m\u001b[0;34m\u001b[0m\u001b[0;34m\u001b[0m\u001b[0m\n\u001b[0;32m--> 727\u001b[0;31m             \u001b[0mresult\u001b[0m \u001b[0;34m=\u001b[0m \u001b[0mself\u001b[0m\u001b[0;34m.\u001b[0m\u001b[0mforward\u001b[0m\u001b[0;34m(\u001b[0m\u001b[0;34m*\u001b[0m\u001b[0minput\u001b[0m\u001b[0;34m,\u001b[0m \u001b[0;34m**\u001b[0m\u001b[0mkwargs\u001b[0m\u001b[0;34m)\u001b[0m\u001b[0;34m\u001b[0m\u001b[0;34m\u001b[0m\u001b[0m\n\u001b[0m\u001b[1;32m    728\u001b[0m         for hook in itertools.chain(\n\u001b[1;32m    729\u001b[0m                 \u001b[0m_global_forward_hooks\u001b[0m\u001b[0;34m.\u001b[0m\u001b[0mvalues\u001b[0m\u001b[0;34m(\u001b[0m\u001b[0;34m)\u001b[0m\u001b[0;34m,\u001b[0m\u001b[0;34m\u001b[0m\u001b[0;34m\u001b[0m\u001b[0m\n",
            "\u001b[0;32m/usr/local/lib/python3.6/dist-packages/torch/nn/modules/pooling.py\u001b[0m in \u001b[0;36mforward\u001b[0;34m(self, input)\u001b[0m\n\u001b[1;32m    153\u001b[0m         return F.max_pool2d(input, self.kernel_size, self.stride,\n\u001b[1;32m    154\u001b[0m                             \u001b[0mself\u001b[0m\u001b[0;34m.\u001b[0m\u001b[0mpadding\u001b[0m\u001b[0;34m,\u001b[0m \u001b[0mself\u001b[0m\u001b[0;34m.\u001b[0m\u001b[0mdilation\u001b[0m\u001b[0;34m,\u001b[0m \u001b[0mself\u001b[0m\u001b[0;34m.\u001b[0m\u001b[0mceil_mode\u001b[0m\u001b[0;34m,\u001b[0m\u001b[0;34m\u001b[0m\u001b[0;34m\u001b[0m\u001b[0m\n\u001b[0;32m--> 155\u001b[0;31m                             self.return_indices)\n\u001b[0m\u001b[1;32m    156\u001b[0m \u001b[0;34m\u001b[0m\u001b[0m\n\u001b[1;32m    157\u001b[0m \u001b[0;34m\u001b[0m\u001b[0m\n",
            "\u001b[0;32m/usr/local/lib/python3.6/dist-packages/torch/_jit_internal.py\u001b[0m in \u001b[0;36mfn\u001b[0;34m(*args, **kwargs)\u001b[0m\n\u001b[1;32m    265\u001b[0m             \u001b[0;32mreturn\u001b[0m \u001b[0mif_true\u001b[0m\u001b[0;34m(\u001b[0m\u001b[0;34m*\u001b[0m\u001b[0margs\u001b[0m\u001b[0;34m,\u001b[0m \u001b[0;34m**\u001b[0m\u001b[0mkwargs\u001b[0m\u001b[0;34m)\u001b[0m\u001b[0;34m\u001b[0m\u001b[0;34m\u001b[0m\u001b[0m\n\u001b[1;32m    266\u001b[0m         \u001b[0;32melse\u001b[0m\u001b[0;34m:\u001b[0m\u001b[0;34m\u001b[0m\u001b[0;34m\u001b[0m\u001b[0m\n\u001b[0;32m--> 267\u001b[0;31m             \u001b[0;32mreturn\u001b[0m \u001b[0mif_false\u001b[0m\u001b[0;34m(\u001b[0m\u001b[0;34m*\u001b[0m\u001b[0margs\u001b[0m\u001b[0;34m,\u001b[0m \u001b[0;34m**\u001b[0m\u001b[0mkwargs\u001b[0m\u001b[0;34m)\u001b[0m\u001b[0;34m\u001b[0m\u001b[0;34m\u001b[0m\u001b[0m\n\u001b[0m\u001b[1;32m    268\u001b[0m \u001b[0;34m\u001b[0m\u001b[0m\n\u001b[1;32m    269\u001b[0m     \u001b[0;32mif\u001b[0m \u001b[0mif_true\u001b[0m\u001b[0;34m.\u001b[0m\u001b[0m__doc__\u001b[0m \u001b[0;32mis\u001b[0m \u001b[0;32mNone\u001b[0m \u001b[0;32mand\u001b[0m \u001b[0mif_false\u001b[0m\u001b[0;34m.\u001b[0m\u001b[0m__doc__\u001b[0m \u001b[0;32mis\u001b[0m \u001b[0;32mnot\u001b[0m \u001b[0;32mNone\u001b[0m\u001b[0;34m:\u001b[0m\u001b[0;34m\u001b[0m\u001b[0;34m\u001b[0m\u001b[0m\n",
            "\u001b[0;32m/usr/local/lib/python3.6/dist-packages/torch/nn/functional.py\u001b[0m in \u001b[0;36m_max_pool2d\u001b[0;34m(input, kernel_size, stride, padding, dilation, ceil_mode, return_indices)\u001b[0m\n\u001b[1;32m    584\u001b[0m         \u001b[0mstride\u001b[0m \u001b[0;34m=\u001b[0m \u001b[0mtorch\u001b[0m\u001b[0;34m.\u001b[0m\u001b[0mjit\u001b[0m\u001b[0;34m.\u001b[0m\u001b[0mannotate\u001b[0m\u001b[0;34m(\u001b[0m\u001b[0mList\u001b[0m\u001b[0;34m[\u001b[0m\u001b[0mint\u001b[0m\u001b[0;34m]\u001b[0m\u001b[0;34m,\u001b[0m \u001b[0;34m[\u001b[0m\u001b[0;34m]\u001b[0m\u001b[0;34m)\u001b[0m\u001b[0;34m\u001b[0m\u001b[0;34m\u001b[0m\u001b[0m\n\u001b[1;32m    585\u001b[0m     return torch.max_pool2d(\n\u001b[0;32m--> 586\u001b[0;31m         input, kernel_size, stride, padding, dilation, ceil_mode)\n\u001b[0m\u001b[1;32m    587\u001b[0m \u001b[0;34m\u001b[0m\u001b[0m\n\u001b[1;32m    588\u001b[0m max_pool2d = boolean_dispatch(\n",
            "\u001b[0;31mRuntimeError\u001b[0m: Given input size: (120x1x1). Calculated output size: (120x0x0). Output size is too small"
          ]
        }
      ]
    },
    {
      "cell_type": "code",
      "metadata": {
        "id": "adGWFG8_hsiy"
      },
      "source": [
        "loader = data.DataLoader(mnist_validation, batch_size=len(mnist_validation), shuffle=False)\r\n",
        "X, y = next(iter(loader))\r\n",
        "logits = model(X)\r\n",
        "compute_acc(logits, y).detach()"
      ],
      "execution_count": null,
      "outputs": []
    }
  ]
}